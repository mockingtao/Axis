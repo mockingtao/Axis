{
 "cells": [
  {
   "cell_type": "code",
   "execution_count": 1,
   "id": "823f221e",
   "metadata": {},
   "outputs": [],
   "source": [
    "import pandas as pd\n",
    "import numpy as np\n",
    "import json\n",
    "import openai\n",
    "import re \n",
    "\n",
    "openai.api_key = #"
   ]
  },
  {
   "cell_type": "code",
   "execution_count": 2,
   "id": "cc52100e",
   "metadata": {},
   "outputs": [],
   "source": [
    "import matplotlib.pyplot as plt\n",
    "plt.rcParams[\"font.sans-serif\"]=[\"SimHei\"] #设置字体\n",
    "plt.rcParams[\"axes.unicode_minus\"]=False #该语句解决图像中的“-”负号的乱码问题"
   ]
  },
  {
   "cell_type": "code",
   "execution_count": 3,
   "id": "251d315b",
   "metadata": {},
   "outputs": [],
   "source": [
    "\n",
    "import itertools\n",
    "\n",
    "def search_primary_key_from_df(df, candidates_cols=None, na_threshold=0, max_dim=None):\n",
    "    # 默认所有列为候选\n",
    "    if candidates_cols is None:\n",
    "        candidates_cols = df.columns\n",
    "    if max_dim is None:\n",
    "        max_dim = len(candidates_cols) - 1\n",
    "    \n",
    "    # 排除不合法的列，即数据类型不是数值或字符串的列，或na值比例超过na_threshold的列\n",
    "    valid_cols = []\n",
    "    for col in candidates_cols:\n",
    "        if df[col].dtype == float:\n",
    "            continue\n",
    "        na_percentage = df[col].isna().sum() / df.shape[0]\n",
    "        if na_percentage <= na_threshold:\n",
    "            valid_cols.append(col)\n",
    "    \n",
    "    # primary key搜索\n",
    "    results = []\n",
    "    for i in range(1, max_dim+1):\n",
    "        for cols in itertools.combinations(valid_cols, i):\n",
    "            unique_values = df[list(cols)].drop_duplicates().shape[0]\n",
    "            if unique_values == df.shape[0]:\n",
    "                results.append((list(cols)))\n",
    "        if results:\n",
    "            break\n",
    "    \n",
    "    return results\n",
    "\n",
    "def dataframe_to_markdown(df):\n",
    "    # 获取列名和数据\n",
    "    columns = df.columns\n",
    "    data = df.values.tolist()\n",
    "\n",
    "    # 构建Markdown表格\n",
    "    markdown_table = \"| \" + \" | \".join(columns) + \" |\\n\"\n",
    "    markdown_table += \"| \" + \" | \".join([\"---\"] * len(columns)) + \" |\\n\"\n",
    "\n",
    "    for row in data:\n",
    "        markdown_table += \"| \" + \" | \".join(map(str, row)) + \" |\\n\"\n",
    "\n",
    "    return markdown_table\n",
    "\n",
    "\n",
    "def map_data_type(dtype):\n",
    "    if np.issubdtype(dtype, np.number):\n",
    "        return 'Numeric'\n",
    "    elif np.issubdtype(dtype, np.datetime64):\n",
    "        return 'DateTime'\n",
    "    elif np.issubdtype(dtype, np.bool_):\n",
    "        return 'Boolean'\n",
    "    elif np.issubdtype(dtype, np.object_):\n",
    "        return 'String'\n",
    "    else:\n",
    "        return 'Unknown'\n",
    "\n",
    "def compute_dataframe_stats(df):\n",
    "    stats = []\n",
    "    \n",
    "    for column in df.columns:\n",
    "        column_stats = {}\n",
    "        column_stats['field'] = column\n",
    "        column_stats['type'] = map_data_type(df[column].dtype)\n",
    "        if column_stats['type'] in ['Numeric', 'DateTime']:\n",
    "            column_stats['max'] = df[column].max()\n",
    "            column_stats['min'] = df[column].min()\n",
    "        column_stats['uniques'] = df[column].nunique()\n",
    "        column_stats['nan_percentage'] = df[column].isnull().mean() * 100\n",
    "        stats.append(column_stats)\n",
    "    \n",
    "    return pd.DataFrame(stats)"
   ]
  },
  {
   "cell_type": "code",
   "execution_count": 4,
   "id": "b5e95523",
   "metadata": {},
   "outputs": [],
   "source": [
    "data_info = f\"\"\"\n",
    "dataset name: 行业市场变化_市场大盘分析_行业市场大盘_魔镜\n",
    "\n",
    "dataset description:\n",
    "primary keys:[月份, 类目编码]\n",
    "3540 rows\n",
    "| field | type | uniques | nan_percentage | max | min |\n",
    "| --- | --- | --- | --- | --- | --- |\n",
    "| 月份 | DateTime | 59 | 0.0 | nan | nan |\n",
    "| 平台编码 | String | 2 | 0.0 | nan | nan |\n",
    "| 一级类目 | String | 4 | 0.0 | nan | nan |\n",
    "| 二级类目 | String | 8 | 6.666666666666667 | nan | nan |\n",
    "| 三级类目 | String | 16 | 20.0 | nan | nan |\n",
    "| 四级类目 | String | 32 | 46.666666666666664 | nan | nan |\n",
    "| 类目名称 | String | 60 | 0.0 | nan | nan |\n",
    "| 类目编码 | Numeric | 60 | 0.0 | 39264.0 | 10209.0 |\n",
    "| 销售额 | Numeric | 3540 | 0.0 | 99989.30547 | 1.8873 |\n",
    "| 销量 | Numeric | 974 | 0.0 | 999.0 | 0.0 |\n",
    "| 店铺数 | Numeric | 181 | 0.0 | 200.0 | 20.0 |\n",
    "| 商品数 | Numeric | 451 | 0.0 | 500.0 | 50.0 |\n",
    "| 收藏次数 | Numeric | 1 | 0.0 | 0.0 | 0.0 |\n",
    "\"\"\"\n",
    "\n",
    "\n",
    "def chat(prompt):\n",
    "    response = openai.ChatCompletion.create(\n",
    "    model=\"gpt-3.5-turbo\",\n",
    "    temperature=0,\n",
    "    messages=[\n",
    "        {\"role\": \"system\", \"content\": f\"\"\"你是一个数据分析机器人，用户会向你咨询关于数据的问题，请按照以下步骤进行处理。\n",
    "        1. 需要判断用户的问题是否为这两类【常规数据咨询，BA看板】，对于这两个问题之外的，请礼貌的回答无法满足要求。\n",
    "            想知道具体单一数值或简单问题的，为数据咨询；若用户想知道多个数据的占比或趋势或涉及多个数据维度之间的关系，属于BA看板。\n",
    "        2A. 如果为数据咨询，假设dataframe的变量名为df, 写一段可运行的<python代码>，运行后可以打印出回答此问题的信息。\n",
    "        2B. 如果为BA看板，假设dataframe的变量名为df, 写一段可运行的<python代码>，运行后可以绘制对应需求。\n",
    "        3. 以JSON格式返回信息。Ensure the response can be parsed by Python json.loads。Json外不能有任何字符\n",
    "        \"message\":<所有需要沟通的内容>, \"task\":<问题分类>, \"python_code\":<python code>\n",
    "        \n",
    "        要求：写python代码时需假设df已经读取在内存中，你不需要写读取数据的代码。\n",
    "        \n",
    "        你掌握的数据情况如下：\n",
    "        {data_info}    \n",
    "        \"\"\"},\n",
    "        {\"role\": \"user\", \"content\": prompt},\n",
    "    ])\n",
    "    \n",
    "    \n",
    "    return response, response['choices'][0]['message']['content']"
   ]
  },
  {
   "cell_type": "code",
   "execution_count": 5,
   "id": "72b68608",
   "metadata": {},
   "outputs": [],
   "source": [
    "df = pd.read_csv('行业市场变化_市场大盘分析_行业市场大盘_魔镜.csv')\n",
    "df = df.drop(['平台名称', 'ETL更新时间'], axis=1)\n",
    "df['月份'] = pd.to_datetime(df['月份'])"
   ]
  },
  {
   "cell_type": "code",
   "execution_count": 6,
   "id": "56c5436f",
   "metadata": {},
   "outputs": [
    {
     "name": "stdout",
     "output_type": "stream",
     "text": [
      "{\n",
      "    \"message\": \"根据数据集中销量字段，可以按照类目编码进行分组求和，然后按照销量降序排序，得到销量最好的品类是类目编码为 39264 的品类。\",\n",
      "    \"task\": \"常规数据咨询\",\n",
      "    \"python_code\": \"df.groupby('类目编码')['销量'].sum().sort_values(ascending=False).index[0]\"\n",
      "}\n"
     ]
    }
   ],
   "source": [
    "res, content = chat('目前销量最好的品类是哪个？')\n",
    "print(content)"
   ]
  },
  {
   "cell_type": "code",
   "execution_count": 7,
   "id": "47d26bbb",
   "metadata": {},
   "outputs": [
    {
     "name": "stdout",
     "output_type": "stream",
     "text": [
      "df.groupby('类目编码')['销量'].sum().sort_values(ascending=False).index[0]\n"
     ]
    }
   ],
   "source": [
    "python_code = json.loads(content)['python_code']\n",
    "print(python_code)\n",
    "exec(python_code)"
   ]
  },
  {
   "cell_type": "code",
   "execution_count": null,
   "id": "12a33bf2",
   "metadata": {},
   "outputs": [],
   "source": []
  }
 ],
 "metadata": {
  "kernelspec": {
   "display_name": "Python 3 (ipykernel)",
   "language": "python",
   "name": "python3"
  },
  "language_info": {
   "codemirror_mode": {
    "name": "ipython",
    "version": 3
   },
   "file_extension": ".py",
   "mimetype": "text/x-python",
   "name": "python",
   "nbconvert_exporter": "python",
   "pygments_lexer": "ipython3",
   "version": "3.9.12"
  }
 },
 "nbformat": 4,
 "nbformat_minor": 5
}
